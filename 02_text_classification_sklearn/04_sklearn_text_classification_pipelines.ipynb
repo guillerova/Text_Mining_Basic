{
  "nbformat": 4,
  "nbformat_minor": 0,
  "metadata": {
    "colab": {
      "name": "04_sklearn_text_classification_pipelines.ipynb",
      "version": "0.3.2",
      "provenance": []
    },
    "kernelspec": {
      "name": "python3",
      "display_name": "Python 3"
    }
  },
  "cells": [
    {
      "metadata": {
        "id": "KRrQllF6EsbM",
        "colab_type": "code",
        "colab": {
          "base_uri": "https://localhost:8080/",
          "height": 35
        },
        "outputId": "f50d7468-51a4-4f33-ae34-605b396776f0"
      },
      "cell_type": "code",
      "source": [
        "from __future__ import print_function\n",
        "\n",
        "import numpy as np\n",
        "\n",
        "from sklearn import __version__ as sklearn_version\n",
        "print('Sklearn version:', sklearn_version)"
      ],
      "execution_count": 1,
      "outputs": [
        {
          "output_type": "stream",
          "text": [
            "Sklearn version: 0.20.3\n"
          ],
          "name": "stdout"
        }
      ]
    },
    {
      "metadata": {
        "id": "FZaQUhX_EsbR",
        "colab_type": "text"
      },
      "cell_type": "markdown",
      "source": [
        "# The data\n",
        "\n",
        "The 20 newsgroups dataset comprises around 18000 newsgroups posts on 20 topics split in two subsets: one for training (or development) and the other one for testing (or for performance evaluation). The split between the train and test set is based upon a messages posted before and after a specific date.\n"
      ]
    },
    {
      "metadata": {
        "id": "atngprC4EsbS",
        "colab_type": "code",
        "colab": {}
      },
      "cell_type": "code",
      "source": [
        "from sklearn.datasets import fetch_20newsgroups\n",
        "\n",
        "categories = ['alt.atheism', 'soc.religion.christian',\n",
        "              'comp.graphics', 'sci.med']\n",
        "\n",
        "twenty_train = fetch_20newsgroups(subset='train',\n",
        "                 remove=('headers', 'footers', 'quotes'),\n",
        "                 categories=categories, shuffle=True, random_state=42)\n"
      ],
      "execution_count": 0,
      "outputs": []
    },
    {
      "metadata": {
        "id": "G62Y35AIEsbV",
        "colab_type": "text"
      },
      "cell_type": "markdown",
      "source": [
        "## Build a pipeline"
      ]
    },
    {
      "metadata": {
        "id": "2ncCbrkdEsbV",
        "colab_type": "code",
        "colab": {}
      },
      "cell_type": "code",
      "source": [
        "#Define the pipeline\n",
        "\n",
        "from sklearn.pipeline import Pipeline\n",
        "from sklearn.feature_extraction.text import CountVectorizer\n",
        "from sklearn.feature_extraction.text import TfidfTransformer\n",
        "from sklearn.naive_bayes import MultinomialNB\n",
        "\n",
        "text_clf = Pipeline([('vect', CountVect...),\n",
        "                     ('tfidf', TfidfTran...),\n",
        "# ---------------------------------------------\n",
        "                     ('clf', ...),\n",
        "# ---------------------------------------------\n",
        "                    ])\n",
        "\n",
        "# Fit all the pipeline\n",
        "text_clf.fit(twenty_train.data, twenty_train.target)"
      ],
      "execution_count": 0,
      "outputs": []
    },
    {
      "metadata": {
        "id": "BSqUyXVyEsbY",
        "colab_type": "code",
        "colab": {}
      },
      "cell_type": "code",
      "source": [
        "#Evaluate test data\n",
        "twenty_test = fetch_20newsgroups(subset='test',\n",
        "                    remove=('headers', 'footers', 'quotes'),\n",
        "                    categories=categories, \n",
        "                    shuffle=True, random_state=42)\n",
        "\n",
        "predicted = text_clf.predict(twenty_test.data)\n",
        "\n",
        "print('Test accuracy:', np.mean(predicted == twenty_test.target))"
      ],
      "execution_count": 0,
      "outputs": []
    },
    {
      "metadata": {
        "id": "A9Dd7gVQEsba",
        "colab_type": "text"
      },
      "cell_type": "markdown",
      "source": [
        "## Change classifier in the pipeline\n",
        "    - LinearSVC\n",
        "    - k-NN\n",
        "    - Random forest"
      ]
    },
    {
      "metadata": {
        "id": "l62iMZBwEsbb",
        "colab_type": "code",
        "colab": {}
      },
      "cell_type": "code",
      "source": [
        "from sklearn.svm import LinearSVC\n",
        "text_clf_svm = Pipeline([('vect', CountVectorizer(max_df=0.95, min_df=2, max_features=5000, stop_words='english')),\n",
        "                     ('tfidf', TfidfTransformer()),\n",
        "# ---------------------------------------------\n",
        "                     ('clf', ...),\n",
        "# ---------------------------------------------\n",
        "                    ])\n",
        "\n",
        "#Fit\n",
        "_ = text_clf_svm.fit(twenty_train.data, twenty_train.target)\n",
        "\n",
        "# Predict\n",
        "predicted = text_clf_svm.predict(twenty_test.data)\n",
        "\n",
        "# Evaluate accuracy\n",
        "print('Test accuracy:', np.mean(predicted == twenty_test.target))        "
      ],
      "execution_count": 0,
      "outputs": []
    },
    {
      "metadata": {
        "id": "wLpmmNfkEsbd",
        "colab_type": "code",
        "colab": {}
      },
      "cell_type": "code",
      "source": [
        "from sklearn.neighbors import KNeighborsClassifier\n",
        "\n",
        "text_clf = Pipeline([('vect', CountVectorizer(max_df=0.95, min_df=2, max_features=5000, stop_words='english')),\n",
        "                     ('tfidf', TfidfTransformer()),\n",
        "# ---------------------------------------------\n",
        "                     ('clf', ...),\n",
        "# ---------------------------------------------\n",
        "                    ])\n",
        "\n",
        "_ = text_clf.fit(twenty_train.data, twenty_train.target)\n",
        "predicted = text_clf.predict(twenty_test.data)\n",
        "print('Test accuracy:', np.mean(predicted == twenty_test.target))"
      ],
      "execution_count": 0,
      "outputs": []
    },
    {
      "metadata": {
        "id": "gr7dn9CuEsbg",
        "colab_type": "code",
        "colab": {}
      },
      "cell_type": "code",
      "source": [
        "from sklearn.ensemble import RandomForestClassifier\n",
        "\n",
        "text_clf = Pipeline([('vect', CountVectorizer(max_df=0.95, min_df=2, max_features=5000, stop_words='english')),\n",
        "                     ('tfidf', TfidfTransformer()),\n",
        "# ---------------------------------------------\n",
        "                     ('clf', ...),\n",
        "# ---------------------------------------------\n",
        "                    ])\n",
        "\n",
        "_ = text_clf.fit(twenty_train.data, twenty_train.target)\n",
        "predicted = text_clf.predict(twenty_test.data)\n",
        "print('Test accuracy:', np.mean(predicted == twenty_test.target))"
      ],
      "execution_count": 0,
      "outputs": []
    },
    {
      "metadata": {
        "id": "cGbmCKqrEsbj",
        "colab_type": "code",
        "colab": {}
      },
      "cell_type": "code",
      "source": [
        ""
      ],
      "execution_count": 0,
      "outputs": []
    },
    {
      "metadata": {
        "id": "nG79-5NNEsbm",
        "colab_type": "text"
      },
      "cell_type": "markdown",
      "source": [
        "## Use features from a factorization instead the provided by the tf-idf"
      ]
    },
    {
      "metadata": {
        "id": "0zzhgwF6Esbm",
        "colab_type": "code",
        "colab": {}
      },
      "cell_type": "code",
      "source": [
        "# Text preprocessing, tokenizing and filtering of stopwords\n",
        "from sklearn.feature_extraction.text import CountVectorizer\n",
        "\n",
        "tf_vectorizer = CountVectorizer(max_df=0.95, min_df=2,\n",
        "                                max_features=5000,\n",
        "                                stop_words='english')\n",
        "X_train_counts = tf_vectorizer.fit_transform(twenty_train.data)\n",
        "X_train_counts.shape"
      ],
      "execution_count": 0,
      "outputs": []
    },
    {
      "metadata": {
        "id": "CFP1LZbxEsbp",
        "colab_type": "code",
        "colab": {}
      },
      "cell_type": "code",
      "source": [
        "from sklearn.decomposition import  LatentDirichletAllocation\n",
        "\n",
        "n_components = 6\n",
        "n_top_words = 20\n",
        "\n",
        "lda = LatentDirichletAllocation(n_components=n_components,\n",
        "                                max_iter=5,\n",
        "                                learning_method='online',\n",
        "                                learning_offset=50.,\n",
        "                                random_state=0)\n",
        "lda.fit(X_train_counts)"
      ],
      "execution_count": 0,
      "outputs": []
    },
    {
      "metadata": {
        "id": "lkya3ItiEsbr",
        "colab_type": "code",
        "colab": {}
      },
      "cell_type": "code",
      "source": [
        "def print_top_words(model, feature_names, n_top_words):\n",
        "    for topic_idx, topic in enumerate(model.components_):\n",
        "        print(\"Topic #%d:\" % topic_idx)\n",
        "        print(\" \".join([feature_names[i]\n",
        "                        for i in topic.argsort()[:-n_top_words - 1:-1]]))\n",
        "    print()\n",
        "\n",
        "tf_feature_names = tf_vectorizer.get_feature_names()\n",
        "print_top_words(lda, tf_feature_names, n_top_words)"
      ],
      "execution_count": 0,
      "outputs": []
    },
    {
      "metadata": {
        "id": "ERaVMuw7Esbt",
        "colab_type": "code",
        "colab": {}
      },
      "cell_type": "code",
      "source": [
        ""
      ],
      "execution_count": 0,
      "outputs": []
    },
    {
      "metadata": {
        "id": "GFgVqbqZEsbw",
        "colab_type": "text"
      },
      "cell_type": "markdown",
      "source": [
        "## Pipeline with factorization"
      ]
    },
    {
      "metadata": {
        "id": "M3c_ox5fEsbx",
        "colab_type": "code",
        "colab": {}
      },
      "cell_type": "code",
      "source": [
        "from sklearn.neighbors import KNeighborsClassifier\n",
        "\n",
        "# ---------------------------------------------\n",
        "text_lda_knn = Pipeline([('vect', CountVectorizer(max_df=0.95, min_df=2, max_features=10000, stop_words='english')),\n",
        "                         ('lda', ...),\n",
        "                         ('clf', ...)\n",
        "                        ])\n",
        "# ---------------------------------------------\n",
        "\n",
        "                         \n",
        "_ = text_lda_knn.fit(twenty_train.data, twenty_train.target)\n",
        "predicted = text_lda_knn.predict(twenty_test.data)\n",
        "print('Test accuracy:', np.mean(predicted == twenty_test.target))"
      ],
      "execution_count": 0,
      "outputs": []
    },
    {
      "metadata": {
        "id": "RhTHNCOjEsbz",
        "colab_type": "code",
        "colab": {}
      },
      "cell_type": "code",
      "source": [
        "from sklearn.ensemble import RandomForestClassifier\n",
        "\n",
        "# ---------------------------------------------\n",
        "text_lda_rf = Pipeline([('vect', CountVectorizer(max_df=0.95, min_df=2, max_features=10000, stop_words='english')),\n",
        "                         ('lda', ...),\n",
        "                         ('clf', ...),\n",
        "                        ])\n",
        "# ---------------------------------------------\n",
        "\n",
        "                         \n",
        "_ = text_lda_rf.fit(twenty_train.data, twenty_train.target)\n",
        "\n",
        "predicted = text_lda_rf.predict(twenty_test.data)\n",
        "print('Test accuracy:', np.mean(predicted == twenty_test.target))"
      ],
      "execution_count": 0,
      "outputs": []
    },
    {
      "metadata": {
        "id": "etir9oW8Esb1",
        "colab_type": "code",
        "colab": {}
      },
      "cell_type": "code",
      "source": [
        ""
      ],
      "execution_count": 0,
      "outputs": []
    },
    {
      "metadata": {
        "id": "7ZKMTlwZEsb3",
        "colab_type": "text"
      },
      "cell_type": "markdown",
      "source": [
        "## Optimize a pipeline"
      ]
    },
    {
      "metadata": {
        "id": "2bTYiOCMEsb4",
        "colab_type": "code",
        "colab": {}
      },
      "cell_type": "code",
      "source": [
        "from sklearn.model_selection import RandomizedSearchCV\n",
        "\n",
        "# Define estimator. No parameters of the search\n",
        "# ---------------------------------------------\n",
        "clf = Pipeline([('vect', ...),\n",
        "                ('tfidf', ...), # tf-idf\n",
        "                ('clf', ...), # LinearSVC\n",
        "                ])\n",
        "# ---------------------------------------------\n",
        "\n",
        "# Specify parameters and distributions to sample from\n",
        "# Parameters of pipelines can be set using ‘__’ separated parameter names:\n",
        "# ---------------------------------------------\n",
        "param_dist = {\"vect__max_features\": ..., \n",
        "              \"vect__stop_words\": ..., \n",
        "              \"clf__C\": ...}\n",
        "# ---------------------------------------------\n",
        "\n",
        "# Define randomized search\n",
        "n_iter_search = 10\n",
        "random_search = RandomizedSearchCV(clf, param_distributions=param_dist, n_iter=n_iter_search)\n",
        "\n",
        "# Run the randomized search\n",
        "random_search.fit(twenty_train.data, twenty_train.target)\n",
        "\n",
        "print(\"Done!\")"
      ],
      "execution_count": 0,
      "outputs": []
    },
    {
      "metadata": {
        "id": "6_TewjqNEsb7",
        "colab_type": "code",
        "colab": {}
      },
      "cell_type": "code",
      "source": [
        "# Load dictionary of search results to a Pandas dataframe\n",
        "import pandas as pd\n",
        "\n",
        "df_cv_results = pd.DataFrame.from_dict(random_search.cv_results_)\n",
        "df_cv_results"
      ],
      "execution_count": 0,
      "outputs": []
    },
    {
      "metadata": {
        "id": "3atqJ9T5EscA",
        "colab_type": "code",
        "colab": {}
      },
      "cell_type": "code",
      "source": [
        "print('Best params:', random_search....)"
      ],
      "execution_count": 0,
      "outputs": []
    },
    {
      "metadata": {
        "id": "KvHy_rJzEscD",
        "colab_type": "code",
        "colab": {}
      },
      "cell_type": "code",
      "source": [
        "# Score & evaluate test data using the best estimator\n",
        "\n",
        "# ---------------------------------------------\n",
        "predicted = random_search...(twenty_test.data)\n",
        "# ---------------------------------------------\n",
        "\n",
        "print('Test accuracy:', np.mean(predicted == twenty_test.target))"
      ],
      "execution_count": 0,
      "outputs": []
    },
    {
      "metadata": {
        "id": "Tts-RrKaEscF",
        "colab_type": "code",
        "colab": {}
      },
      "cell_type": "code",
      "source": [
        ""
      ],
      "execution_count": 0,
      "outputs": []
    },
    {
      "metadata": {
        "id": "2_vD0rk0EscH",
        "colab_type": "text"
      },
      "cell_type": "markdown",
      "source": [
        "## Aditional metrics for multiclass classification"
      ]
    },
    {
      "metadata": {
        "id": "NdSf3OvtEscH",
        "colab_type": "code",
        "colab": {}
      },
      "cell_type": "code",
      "source": [
        "from sklearn import metrics\n",
        "\n",
        "print(metrics.classification_report(twenty_test.target, \n",
        "                                    predicted,\n",
        "                                    target_names=twenty_test.target_names))"
      ],
      "execution_count": 0,
      "outputs": []
    },
    {
      "metadata": {
        "id": "HLlZ29OyEscK",
        "colab_type": "code",
        "colab": {}
      },
      "cell_type": "code",
      "source": [
        "metrics.confusion_matrix(twenty_test.target, predicted)"
      ],
      "execution_count": 0,
      "outputs": []
    }
  ]
}