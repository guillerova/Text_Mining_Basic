{
  "nbformat": 4,
  "nbformat_minor": 0,
  "metadata": {
    "colab": {
      "name": "02_sklearn_basics.ipynb",
      "version": "0.3.2",
      "provenance": [],
      "collapsed_sections": []
    },
    "kernelspec": {
      "name": "python3",
      "display_name": "Python 3"
    }
  },
  "cells": [
    {
      "metadata": {
        "id": "YJmteYatBW1A",
        "colab_type": "text"
      },
      "cell_type": "markdown",
      "source": [
        "# Sklearn basics\n",
        "\n",
        " - Datasets\n",
        " - Data shuffle and data partition\n",
        " - Configure and fit a model\n",
        " - Score new data\n",
        " - Performance metrics."
      ]
    },
    {
      "metadata": {
        "id": "PAEnsipFBW1B",
        "colab_type": "code",
        "colab": {
          "base_uri": "https://localhost:8080/",
          "height": 35
        },
        "outputId": "f2ef2b45-303f-483b-f794-5021cc97a0af"
      },
      "cell_type": "code",
      "source": [
        "from __future__ import print_function\n",
        "\n",
        "from sklearn import __version__ as sklearn_version\n",
        "print('Sklearn version:', sklearn_version)"
      ],
      "execution_count": 1,
      "outputs": [
        {
          "output_type": "stream",
          "text": [
            "Sklearn version: 0.20.3\n"
          ],
          "name": "stdout"
        }
      ]
    },
    {
      "metadata": {
        "id": "lPXtuPgABW1E",
        "colab_type": "text"
      },
      "cell_type": "markdown",
      "source": [
        "# Load data"
      ]
    },
    {
      "metadata": {
        "id": "QoGKKnK1BW1E",
        "colab_type": "code",
        "colab": {}
      },
      "cell_type": "code",
      "source": [
        "from sklearn import datasets\n",
        "\n",
        "iris = datasets.load_iris()\n",
        "print(iris.DESCR)"
      ],
      "execution_count": 0,
      "outputs": []
    },
    {
      "metadata": {
        "id": "7zG_t3srBW1G",
        "colab_type": "code",
        "colab": {}
      },
      "cell_type": "code",
      "source": [
        "# Print some data lines\n",
        "print(iris.data[:10])\n",
        "print(iris.target)"
      ],
      "execution_count": 0,
      "outputs": []
    },
    {
      "metadata": {
        "id": "e_0Lw3PnBW1J",
        "colab_type": "code",
        "colab": {}
      },
      "cell_type": "code",
      "source": [
        "#Randomize and separate train & test\n",
        "from sklearn.utils import shuffle\n",
        "X, y = shuffle(iris.data, iris.target, random_state=0)\n",
        "\n",
        "from sklearn.model_selection import train_test_split\n",
        "X_train, X_test, y_train, y_test = train_test_split(X, y, test_size=0.33, random_state=0)\n",
        "\n",
        "print(X_train.shape, X_test.shape, y_train.shape, y_test.shape)"
      ],
      "execution_count": 0,
      "outputs": []
    },
    {
      "metadata": {
        "id": "O8guH7iIBW1L",
        "colab_type": "text"
      },
      "cell_type": "markdown",
      "source": [
        "## Linear model"
      ]
    },
    {
      "metadata": {
        "id": "WbAj_nE_BW1L",
        "colab_type": "code",
        "colab": {}
      },
      "cell_type": "code",
      "source": [
        "# Linear model \n",
        "from sklearn.linear_model import LogisticRegression\n",
        "\n",
        "# Define classifier\n",
        "clf_logistic = LogisticRegression()\n",
        "\n",
        "# Fit classifier\n",
        "clf_logistic.fit(X_train, y_train)"
      ],
      "execution_count": 0,
      "outputs": []
    },
    {
      "metadata": {
        "id": "xjPfzfkhBW1N",
        "colab_type": "code",
        "colab": {}
      },
      "cell_type": "code",
      "source": [
        "# Evaluate accuracy in test\n",
        "from sklearn.metrics import accuracy_score\n",
        "\n",
        "# Predict test data\n",
        "y_test_pred = clf_logistic.predict(X_test)\n",
        "\n",
        "# Evaluate accuracy\n",
        "print('Accuracy test: ', accuracy_score(y_test, y_test_pred))\n"
      ],
      "execution_count": 0,
      "outputs": []
    },
    {
      "metadata": {
        "id": "9eolpAAiBW1P",
        "colab_type": "text"
      },
      "cell_type": "markdown",
      "source": [
        "## Decision tree\n",
        "\n",
        "    - Build a second decision tree model to compare with the previous linear model\n",
        "    - Print Accuracy and ROC area"
      ]
    },
    {
      "metadata": {
        "id": "eglzMwPMBW1Q",
        "colab_type": "code",
        "colab": {}
      },
      "cell_type": "code",
      "source": [
        "from sklearn import tree\n",
        "\n",
        "# Define classifier (use max_depth=3)\n",
        "clf_tree = ...\n",
        "\n",
        "# Fit over train data\n",
        "...\n",
        "\n",
        "# Evaluate test accuracy with accuracy_score\n",
        "print('Tree accuracy test: ', ...)\n"
      ],
      "execution_count": 0,
      "outputs": []
    },
    {
      "metadata": {
        "id": "zI9mSFExBW1S",
        "colab_type": "text"
      },
      "cell_type": "markdown",
      "source": [
        "# Test another clasifier\n",
        "    - Based on the Sklearn algorithm cheat-sheet http://scikit-learn.org/stable/tutorial/machine_learning_map/\n",
        "    - Linear SVC: http://scikit-learn.org/stable/modules/generated/sklearn.svm.LinearSVC.html#sklearn.svm.LinearSVC \n"
      ]
    },
    {
      "metadata": {
        "id": "AUojGlu-BW1T",
        "colab_type": "code",
        "colab": {}
      },
      "cell_type": "code",
      "source": [
        "# Configure model\n",
        "from sklearn import svm\n",
        "clf_svc = svm.LinearSVC()\n",
        "\n",
        "# Fit over train\n",
        "...\n",
        "\n",
        "# Accuracy score over test\n",
        "...\n"
      ],
      "execution_count": 0,
      "outputs": []
    },
    {
      "metadata": {
        "id": "ARGY7FyqBW1V",
        "colab_type": "text"
      },
      "cell_type": "markdown",
      "source": [
        "## ROC area"
      ]
    },
    {
      "metadata": {
        "id": "gaOP9ymEBW1W",
        "colab_type": "code",
        "colab": {}
      },
      "cell_type": "code",
      "source": [
        "# ROC area\n",
        "\n",
        "# Print probabilities\n",
        "y_test_proba = clf_logistic.predict_proba(X_test)\n",
        "print(y_test_proba[:5])\n",
        "\n",
        "\n",
        "#Recode y from multiclass labels to binary labels\n",
        "from sklearn import preprocessing\n",
        "lb = preprocessing.LabelBinarizer()\n",
        "lb.fit(y_train)\n",
        "print('Test classes: ',lb.classes_)\n",
        "y_test_bin = lb.transform(y_test)\n",
        "print(y_test_bin[:5])\n",
        "\n",
        "\n",
        "# Roc curve\n",
        "from sklearn.metrics import roc_auc_score\n",
        "print('Average ROC area: ', roc_auc_score(y_test_bin, y_test_proba))\n",
        "\n"
      ],
      "execution_count": 0,
      "outputs": []
    }
  ]
}