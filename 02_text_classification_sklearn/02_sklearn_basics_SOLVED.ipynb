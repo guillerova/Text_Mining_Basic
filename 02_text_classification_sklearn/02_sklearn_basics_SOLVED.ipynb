{
  "nbformat": 4,
  "nbformat_minor": 0,
  "metadata": {
    "colab": {
      "name": "02_sklearn_basics_SOLVED.ipynb",
      "version": "0.3.2",
      "provenance": []
    },
    "kernelspec": {
      "name": "python3",
      "display_name": "Python 3"
    }
  },
  "cells": [
    {
      "metadata": {
        "id": "iBSjeYJ2BEVj",
        "colab_type": "text"
      },
      "cell_type": "markdown",
      "source": [
        "# Sklearn basics\n",
        "\n",
        " - Datasets\n",
        " - Data shuffle and data partition\n",
        " - Configure and fit a model\n",
        " - Score new data\n",
        " - Performance metrics."
      ]
    },
    {
      "metadata": {
        "id": "sELW9zekBEVk",
        "colab_type": "code",
        "colab": {
          "base_uri": "https://localhost:8080/",
          "height": 35
        },
        "outputId": "0dcc2b57-b59e-48e5-b682-d82e3dc27c30"
      },
      "cell_type": "code",
      "source": [
        "from __future__ import print_function\n",
        "\n",
        "from sklearn import __version__ as sklearn_version\n",
        "print('Sklearn version:', sklearn_version)"
      ],
      "execution_count": 1,
      "outputs": [
        {
          "output_type": "stream",
          "text": [
            "Sklearn version: 0.20.3\n"
          ],
          "name": "stdout"
        }
      ]
    },
    {
      "metadata": {
        "id": "ploD07c6BEVn",
        "colab_type": "text"
      },
      "cell_type": "markdown",
      "source": [
        "# Load data"
      ]
    },
    {
      "metadata": {
        "id": "lJZoYF_7BEVo",
        "colab_type": "code",
        "colab": {
          "base_uri": "https://localhost:8080/",
          "height": 1105
        },
        "outputId": "00e49245-3c05-4dbe-93a3-1e0580cce464"
      },
      "cell_type": "code",
      "source": [
        "from sklearn import datasets\n",
        "\n",
        "iris = datasets.load_iris()\n",
        "print(iris.DESCR)"
      ],
      "execution_count": 2,
      "outputs": [
        {
          "output_type": "stream",
          "text": [
            ".. _iris_dataset:\n",
            "\n",
            "Iris plants dataset\n",
            "--------------------\n",
            "\n",
            "**Data Set Characteristics:**\n",
            "\n",
            "    :Number of Instances: 150 (50 in each of three classes)\n",
            "    :Number of Attributes: 4 numeric, predictive attributes and the class\n",
            "    :Attribute Information:\n",
            "        - sepal length in cm\n",
            "        - sepal width in cm\n",
            "        - petal length in cm\n",
            "        - petal width in cm\n",
            "        - class:\n",
            "                - Iris-Setosa\n",
            "                - Iris-Versicolour\n",
            "                - Iris-Virginica\n",
            "                \n",
            "    :Summary Statistics:\n",
            "\n",
            "    ============== ==== ==== ======= ===== ====================\n",
            "                    Min  Max   Mean    SD   Class Correlation\n",
            "    ============== ==== ==== ======= ===== ====================\n",
            "    sepal length:   4.3  7.9   5.84   0.83    0.7826\n",
            "    sepal width:    2.0  4.4   3.05   0.43   -0.4194\n",
            "    petal length:   1.0  6.9   3.76   1.76    0.9490  (high!)\n",
            "    petal width:    0.1  2.5   1.20   0.76    0.9565  (high!)\n",
            "    ============== ==== ==== ======= ===== ====================\n",
            "\n",
            "    :Missing Attribute Values: None\n",
            "    :Class Distribution: 33.3% for each of 3 classes.\n",
            "    :Creator: R.A. Fisher\n",
            "    :Donor: Michael Marshall (MARSHALL%PLU@io.arc.nasa.gov)\n",
            "    :Date: July, 1988\n",
            "\n",
            "The famous Iris database, first used by Sir R.A. Fisher. The dataset is taken\n",
            "from Fisher's paper. Note that it's the same as in R, but not as in the UCI\n",
            "Machine Learning Repository, which has two wrong data points.\n",
            "\n",
            "This is perhaps the best known database to be found in the\n",
            "pattern recognition literature.  Fisher's paper is a classic in the field and\n",
            "is referenced frequently to this day.  (See Duda & Hart, for example.)  The\n",
            "data set contains 3 classes of 50 instances each, where each class refers to a\n",
            "type of iris plant.  One class is linearly separable from the other 2; the\n",
            "latter are NOT linearly separable from each other.\n",
            "\n",
            ".. topic:: References\n",
            "\n",
            "   - Fisher, R.A. \"The use of multiple measurements in taxonomic problems\"\n",
            "     Annual Eugenics, 7, Part II, 179-188 (1936); also in \"Contributions to\n",
            "     Mathematical Statistics\" (John Wiley, NY, 1950).\n",
            "   - Duda, R.O., & Hart, P.E. (1973) Pattern Classification and Scene Analysis.\n",
            "     (Q327.D83) John Wiley & Sons.  ISBN 0-471-22361-1.  See page 218.\n",
            "   - Dasarathy, B.V. (1980) \"Nosing Around the Neighborhood: A New System\n",
            "     Structure and Classification Rule for Recognition in Partially Exposed\n",
            "     Environments\".  IEEE Transactions on Pattern Analysis and Machine\n",
            "     Intelligence, Vol. PAMI-2, No. 1, 67-71.\n",
            "   - Gates, G.W. (1972) \"The Reduced Nearest Neighbor Rule\".  IEEE Transactions\n",
            "     on Information Theory, May 1972, 431-433.\n",
            "   - See also: 1988 MLC Proceedings, 54-64.  Cheeseman et al\"s AUTOCLASS II\n",
            "     conceptual clustering system finds 3 classes in the data.\n",
            "   - Many, many more ...\n"
          ],
          "name": "stdout"
        }
      ]
    },
    {
      "metadata": {
        "id": "0GnxrmsABEVq",
        "colab_type": "code",
        "colab": {
          "base_uri": "https://localhost:8080/",
          "height": 276
        },
        "outputId": "8771c460-7447-4604-f18c-cf8d72f488ec"
      },
      "cell_type": "code",
      "source": [
        "# Print some data lines\n",
        "print(iris.data[:10])\n",
        "print(iris.target)"
      ],
      "execution_count": 3,
      "outputs": [
        {
          "output_type": "stream",
          "text": [
            "[[5.1 3.5 1.4 0.2]\n",
            " [4.9 3.  1.4 0.2]\n",
            " [4.7 3.2 1.3 0.2]\n",
            " [4.6 3.1 1.5 0.2]\n",
            " [5.  3.6 1.4 0.2]\n",
            " [5.4 3.9 1.7 0.4]\n",
            " [4.6 3.4 1.4 0.3]\n",
            " [5.  3.4 1.5 0.2]\n",
            " [4.4 2.9 1.4 0.2]\n",
            " [4.9 3.1 1.5 0.1]]\n",
            "[0 0 0 0 0 0 0 0 0 0 0 0 0 0 0 0 0 0 0 0 0 0 0 0 0 0 0 0 0 0 0 0 0 0 0 0 0\n",
            " 0 0 0 0 0 0 0 0 0 0 0 0 0 1 1 1 1 1 1 1 1 1 1 1 1 1 1 1 1 1 1 1 1 1 1 1 1\n",
            " 1 1 1 1 1 1 1 1 1 1 1 1 1 1 1 1 1 1 1 1 1 1 1 1 1 1 2 2 2 2 2 2 2 2 2 2 2\n",
            " 2 2 2 2 2 2 2 2 2 2 2 2 2 2 2 2 2 2 2 2 2 2 2 2 2 2 2 2 2 2 2 2 2 2 2 2 2\n",
            " 2 2]\n"
          ],
          "name": "stdout"
        }
      ]
    },
    {
      "metadata": {
        "id": "_ZUbNo93BEVs",
        "colab_type": "code",
        "colab": {
          "base_uri": "https://localhost:8080/",
          "height": 35
        },
        "outputId": "8681156d-370b-4003-f19f-70dc3dece079"
      },
      "cell_type": "code",
      "source": [
        "#Randomize and separate train & test\n",
        "from sklearn.utils import shuffle\n",
        "X, y = shuffle(iris.data, iris.target, random_state=0)\n",
        "\n",
        "from sklearn.model_selection import train_test_split\n",
        "X_train, X_test, y_train, y_test = train_test_split(X, y, test_size=0.33, random_state=0)\n",
        "\n",
        "print(X_train.shape, X_test.shape, y_train.shape, y_test.shape)"
      ],
      "execution_count": 4,
      "outputs": [
        {
          "output_type": "stream",
          "text": [
            "(100, 4) (50, 4) (100,) (50,)\n"
          ],
          "name": "stdout"
        }
      ]
    },
    {
      "metadata": {
        "id": "aIhSqax3BEVu",
        "colab_type": "text"
      },
      "cell_type": "markdown",
      "source": [
        "## Linear model"
      ]
    },
    {
      "metadata": {
        "id": "NdnOJ1Q-BEVu",
        "colab_type": "code",
        "colab": {
          "base_uri": "https://localhost:8080/",
          "height": 175
        },
        "outputId": "9588b128-025f-48fc-bf6c-ba297c2f8548"
      },
      "cell_type": "code",
      "source": [
        "# Linear model \n",
        "from sklearn.linear_model import LogisticRegression\n",
        "\n",
        "# Define classifier\n",
        "clf_logistic = LogisticRegression()\n",
        "\n",
        "# Fit classifier\n",
        "clf_logistic.fit(X_train, y_train)"
      ],
      "execution_count": 5,
      "outputs": [
        {
          "output_type": "stream",
          "text": [
            "/usr/local/lib/python3.6/dist-packages/sklearn/linear_model/logistic.py:433: FutureWarning: Default solver will be changed to 'lbfgs' in 0.22. Specify a solver to silence this warning.\n",
            "  FutureWarning)\n",
            "/usr/local/lib/python3.6/dist-packages/sklearn/linear_model/logistic.py:460: FutureWarning: Default multi_class will be changed to 'auto' in 0.22. Specify the multi_class option to silence this warning.\n",
            "  \"this warning.\", FutureWarning)\n"
          ],
          "name": "stderr"
        },
        {
          "output_type": "execute_result",
          "data": {
            "text/plain": [
              "LogisticRegression(C=1.0, class_weight=None, dual=False, fit_intercept=True,\n",
              "          intercept_scaling=1, max_iter=100, multi_class='warn',\n",
              "          n_jobs=None, penalty='l2', random_state=None, solver='warn',\n",
              "          tol=0.0001, verbose=0, warm_start=False)"
            ]
          },
          "metadata": {
            "tags": []
          },
          "execution_count": 5
        }
      ]
    },
    {
      "metadata": {
        "id": "4LDNToiUBEVw",
        "colab_type": "code",
        "colab": {
          "base_uri": "https://localhost:8080/",
          "height": 35
        },
        "outputId": "9ff63f0f-aacb-4cbb-b200-a8ee7ae36740"
      },
      "cell_type": "code",
      "source": [
        "# Evaluate accuracy in test\n",
        "from sklearn.metrics import accuracy_score\n",
        "\n",
        "# Predict test data\n",
        "y_test_pred = clf_logistic.predict(X_test)\n",
        "\n",
        "# Evaluate accuracy\n",
        "print('Accuracy test: ', accuracy_score(y_test, y_test_pred))\n"
      ],
      "execution_count": 6,
      "outputs": [
        {
          "output_type": "stream",
          "text": [
            "Accuracy test:  0.94\n"
          ],
          "name": "stdout"
        }
      ]
    },
    {
      "metadata": {
        "id": "p2D7aQCdBEVy",
        "colab_type": "text"
      },
      "cell_type": "markdown",
      "source": [
        "## Decision tree\n",
        "\n",
        "    - Build a second decision tree model to compare with the previous linear model\n",
        "    - Print Accuracy and ROC area"
      ]
    },
    {
      "metadata": {
        "id": "-PKXavf6BEVz",
        "colab_type": "code",
        "colab": {
          "base_uri": "https://localhost:8080/",
          "height": 35
        },
        "outputId": "04d6f78b-3462-40f0-b4aa-f9d3ef29673a"
      },
      "cell_type": "code",
      "source": [
        "from sklearn import tree\n",
        "\n",
        "# Define classifier\n",
        "clf_tree = tree.DecisionTreeClassifier(max_depth=3)\n",
        "\n",
        "# Fit\n",
        "clf_tree.fit(X_train, y_train)\n",
        "\n",
        "# Evaluate test accuracy\n",
        "print('Tree accuracy test: ', accuracy_score(y_test, clf_tree.predict(X_test)))\n"
      ],
      "execution_count": 7,
      "outputs": [
        {
          "output_type": "stream",
          "text": [
            "Tree accuracy test:  0.92\n"
          ],
          "name": "stdout"
        }
      ]
    },
    {
      "metadata": {
        "id": "uKRbpQWUBEV1",
        "colab_type": "text"
      },
      "cell_type": "markdown",
      "source": [
        "# Test another clasifier\n",
        "   - Based on the [Sklearn algorithm cheat-sheet](http://scikit-learn.org/stable/tutorial/machine_learning_map/)\n",
        "   - Linear SVC: http://scikit-learn.org/stable/modules/generated/sklearn.svm.LinearSVC.html#sklearn.svm.LinearSVC \n"
      ]
    },
    {
      "metadata": {
        "id": "K4zrsMH0BEV2",
        "colab_type": "code",
        "colab": {
          "base_uri": "https://localhost:8080/",
          "height": 89
        },
        "outputId": "bd0eb14c-8546-4d17-c10f-1e772c9fcd2f"
      },
      "cell_type": "code",
      "source": [
        "# Configure model\n",
        "from sklearn import svm\n",
        "clf_svc = svm.LinearSVC()\n",
        "\n",
        "# Fit over train\n",
        "clf_svc.fit(X_train, y_train)\n",
        "\n",
        "# Accuracy score over test\n",
        "print(accuracy_score(y_test, clf_svc.predict(X_test)))"
      ],
      "execution_count": 8,
      "outputs": [
        {
          "output_type": "stream",
          "text": [
            "0.96\n"
          ],
          "name": "stdout"
        },
        {
          "output_type": "stream",
          "text": [
            "/usr/local/lib/python3.6/dist-packages/sklearn/svm/base.py:931: ConvergenceWarning: Liblinear failed to converge, increase the number of iterations.\n",
            "  \"the number of iterations.\", ConvergenceWarning)\n"
          ],
          "name": "stderr"
        }
      ]
    },
    {
      "metadata": {
        "id": "O26rj0lFBEV4",
        "colab_type": "text"
      },
      "cell_type": "markdown",
      "source": [
        "## ROC area"
      ]
    },
    {
      "metadata": {
        "id": "hXUMEEBjBEV5",
        "colab_type": "code",
        "colab": {
          "base_uri": "https://localhost:8080/",
          "height": 225
        },
        "outputId": "9c20ced5-4b3c-4579-8254-9fdd36733b88"
      },
      "cell_type": "code",
      "source": [
        "# ROC area\n",
        "\n",
        "# Print probabilities\n",
        "y_test_proba = clf_logistic.predict_proba(X_test)\n",
        "print(y_test_proba[:5])\n",
        "\n",
        "\n",
        "#Recode y from multiclass labels to binary labels\n",
        "from sklearn import preprocessing\n",
        "lb = preprocessing.LabelBinarizer()\n",
        "lb.fit(y_train)\n",
        "print('Test classes: ',lb.classes_)\n",
        "y_test_bin = lb.transform(y_test)\n",
        "print(y_test_bin[:5])\n",
        "\n",
        "\n",
        "# Roc curve\n",
        "from sklearn.metrics import roc_auc_score\n",
        "print('Average ROC area: ', roc_auc_score(y_test_bin, y_test_proba))\n",
        "\n"
      ],
      "execution_count": 9,
      "outputs": [
        {
          "output_type": "stream",
          "text": [
            "[[2.43862446e-05 4.37028016e-01 5.62947598e-01]\n",
            " [1.20600083e-03 3.14936727e-01 6.83857272e-01]\n",
            " [4.63664207e-03 3.55430083e-01 6.39933275e-01]\n",
            " [8.56512773e-01 1.43445487e-01 4.17403128e-05]\n",
            " [2.10000664e-02 7.25574997e-01 2.53424937e-01]]\n",
            "Test classes:  [0 1 2]\n",
            "[[0 0 1]\n",
            " [0 0 1]\n",
            " [0 0 1]\n",
            " [1 0 0]\n",
            " [0 1 0]]\n",
            "Average ROC area:  0.9755555555555556\n"
          ],
          "name": "stdout"
        }
      ]
    },
    {
      "metadata": {
        "id": "2EWaVOePBEV7",
        "colab_type": "code",
        "colab": {}
      },
      "cell_type": "code",
      "source": [
        ""
      ],
      "execution_count": 0,
      "outputs": []
    }
  ]
}