{
  "nbformat": 4,
  "nbformat_minor": 0,
  "metadata": {
    "colab": {
      "name": "03_sklearn_text_classification.ipynb",
      "version": "0.3.2",
      "provenance": [],
      "collapsed_sections": []
    },
    "kernelspec": {
      "name": "python3",
      "display_name": "Python 3"
    }
  },
  "cells": [
    {
      "metadata": {
        "id": "OpE25Z7iCuef",
        "colab_type": "code",
        "colab": {
          "base_uri": "https://localhost:8080/",
          "height": 35
        },
        "outputId": "a7fab9ca-17ad-435c-bd03-f3d15cd775d9"
      },
      "cell_type": "code",
      "source": [
        "from __future__ import print_function\n",
        "\n",
        "import numpy as np\n",
        "\n",
        "from sklearn import __version__ as sklearn_version\n",
        "print('Sklearn version:', sklearn_version)"
      ],
      "execution_count": 1,
      "outputs": [
        {
          "output_type": "stream",
          "text": [
            "Sklearn version: 0.20.3\n"
          ],
          "name": "stdout"
        }
      ]
    },
    {
      "metadata": {
        "id": "vP3N9H7UCuel",
        "colab_type": "text"
      },
      "cell_type": "markdown",
      "source": [
        "# The data\n",
        "\n",
        "The 20 newsgroups dataset comprises around 18000 newsgroups posts on 20 topics split in two subsets: one for training (or development) and the other one for testing (or for performance evaluation). The split between the train and test set is based upon a messages posted before and after a specific date.\n"
      ]
    },
    {
      "metadata": {
        "id": "YyzJf4QJCuel",
        "colab_type": "code",
        "colab": {},
        "outputId": "6b84d556-d20b-4170-8768-5e74f92dee6a"
      },
      "cell_type": "code",
      "source": [
        "from sklearn.datasets import fetch_20newsgroups\n",
        "\n",
        "categories = ['alt.atheism', 'soc.religion.christian',\n",
        "              'comp.graphics', 'sci.med']\n",
        "\n",
        "twenty_train = fetch_20newsgroups(subset='train',\n",
        "                 remove=('headers', 'footers', 'quotes'),\n",
        "                 categories=categories, shuffle=True, random_state=42)\n",
        "\n",
        "twenty_train.target_names"
      ],
      "execution_count": 0,
      "outputs": [
        {
          "output_type": "execute_result",
          "data": {
            "text/plain": [
              "['alt.atheism', 'comp.graphics', 'sci.med', 'soc.religion.christian']"
            ]
          },
          "metadata": {
            "tags": []
          },
          "execution_count": 2
        }
      ]
    },
    {
      "metadata": {
        "id": "AIvc9Oa-Cueo",
        "colab_type": "code",
        "colab": {},
        "outputId": "175f4053-938e-4480-e2ab-8a623fa1e76b"
      },
      "cell_type": "code",
      "source": [
        "# Sample data\n",
        "print(twenty_train.data[0])\n",
        "print('---------------')\n",
        "print('Target: ', twenty_train.target[0])\n"
      ],
      "execution_count": 0,
      "outputs": [
        {
          "output_type": "stream",
          "text": [
            "Does anyone know of a good way (standard PC application/PD utility) to\n",
            "convert tif/img/tga files into LaserJet III format.  We would also like to\n",
            "do the same, converting to HPGL (HP plotter) files.\n",
            "\n",
            "Please email any response.\n",
            "\n",
            "Is this the correct group?\n",
            "\n",
            "Thanks in advance.  Michael.\n",
            "---------------\n",
            "Target:  1\n"
          ],
          "name": "stdout"
        }
      ]
    },
    {
      "metadata": {
        "id": "s3rL0CmnCuet",
        "colab_type": "code",
        "colab": {},
        "outputId": "be399107-00ec-4136-ec53-c256879f7e7e"
      },
      "cell_type": "code",
      "source": [
        "len(twenty_train.data)"
      ],
      "execution_count": 0,
      "outputs": [
        {
          "output_type": "execute_result",
          "data": {
            "text/plain": [
              "2257"
            ]
          },
          "metadata": {
            "tags": []
          },
          "execution_count": 7
        }
      ]
    },
    {
      "metadata": {
        "id": "Tx7og4n7Cuev",
        "colab_type": "text"
      },
      "cell_type": "markdown",
      "source": [
        "### TASK 1: Create terms documents matrix"
      ]
    },
    {
      "metadata": {
        "id": "VsFUlrJXCuew",
        "colab_type": "code",
        "colab": {},
        "outputId": "5bff10d1-87ff-4235-ec9a-8404f91fb6f5"
      },
      "cell_type": "code",
      "source": [
        "# Text preprocessing, tokenizing and filtering of stopwords\n",
        "from sklearn.feature_extraction.text import CountVectorizer\n",
        "\n",
        "#Define the count vectorizer here\n",
        "tf_vectorizer = CountVectorizer(max_df=0.95, min_df=2,\n",
        "                  max_features=5000, stop_words='english')\n",
        "\n",
        "# Fit and apply the count vectorizer with the train texts.\n",
        "X_train_counts = tf_vectorizer.fit_transform(twenty_train.data)\n",
        "\n",
        "X_train_counts.shape"
      ],
      "execution_count": 0,
      "outputs": [
        {
          "output_type": "execute_result",
          "data": {
            "text/plain": [
              "(2257, 5000)"
            ]
          },
          "metadata": {
            "tags": []
          },
          "execution_count": 4
        }
      ]
    },
    {
      "metadata": {
        "scrolled": true,
        "id": "3Q2oATSUCuez",
        "colab_type": "code",
        "colab": {},
        "outputId": "c4e3bf01-0fad-45c3-ff72-65e18fa9e23c"
      },
      "cell_type": "code",
      "source": [
        "# Visualize the results, first row and first column\n",
        "print(X_train_counts[0,:])\n",
        "print(X_train_counts[:,0])"
      ],
      "execution_count": 0,
      "outputs": [
        {
          "output_type": "stream",
          "text": [
            "  (0, 2866)\t1\n",
            "  (0, 238)\t1\n",
            "  (0, 4522)\t1\n",
            "  (0, 2058)\t1\n",
            "  (0, 1123)\t1\n",
            "  (0, 3867)\t1\n",
            "  (0, 1543)\t1\n",
            "  (0, 3385)\t1\n",
            "  (0, 2197)\t1\n",
            "  (0, 1094)\t1\n",
            "  (0, 2643)\t1\n",
            "  (0, 1865)\t1\n",
            "  (0, 2237)\t1\n",
            "  (0, 1795)\t2\n",
            "  (0, 4520)\t1\n",
            "  (0, 2251)\t1\n",
            "  (0, 1090)\t1\n",
            "  (0, 4744)\t1\n",
            "  (0, 3276)\t1\n",
            "  (0, 357)\t1\n",
            "  (0, 3273)\t1\n",
            "  (0, 4299)\t1\n",
            "  (0, 4869)\t1\n",
            "  (0, 2014)\t1\n",
            "  (0, 2550)\t1\n",
            "  (0, 1445)\t1\n",
            "  (232, 0)\t2\n",
            "  (272, 0)\t1\n",
            "  (282, 0)\t1\n",
            "  (400, 0)\t1\n",
            "  (433, 0)\t2\n",
            "  (581, 0)\t2\n",
            "  (588, 0)\t1\n",
            "  (766, 0)\t1\n",
            "  (768, 0)\t2\n",
            "  (837, 0)\t3\n",
            "  (844, 0)\t1\n",
            "  (859, 0)\t1\n",
            "  (880, 0)\t1\n",
            "  (1030, 0)\t1\n",
            "  (1056, 0)\t6\n",
            "  (1057, 0)\t2\n",
            "  (1263, 0)\t1\n",
            "  (1475, 0)\t1\n",
            "  (1665, 0)\t16\n",
            "  (1795, 0)\t1\n",
            "  (1802, 0)\t1\n",
            "  (1833, 0)\t1\n",
            "  (1890, 0)\t2\n",
            "  (2069, 0)\t1\n",
            "  (2144, 0)\t1\n"
          ],
          "name": "stdout"
        }
      ]
    },
    {
      "metadata": {
        "id": "iMc0Sm0kCue2",
        "colab_type": "text"
      },
      "cell_type": "markdown",
      "source": [
        "### TASK 2: TF-IDF transformation"
      ]
    },
    {
      "metadata": {
        "id": "5NHYbE4ECue3",
        "colab_type": "code",
        "colab": {},
        "outputId": "0b21cc6d-e336-4250-8da2-897f5bcc594c"
      },
      "cell_type": "code",
      "source": [
        "#From occurrences to frequencies\n",
        "from sklearn.feature_extraction.text import TfidfTransformer\n",
        "\n",
        "# Define the TF-IDF transformer here and fit it\n",
        "tfidf_transformer = TfidfTransformer().fit(X_train_counts)\n",
        "\n",
        "# Apply the transformer to the train matrix of documents terms.\n",
        "X_train_tf = tfidf_transformer.transform(X_train_counts)\n",
        "\n",
        "X_train_tf.shape"
      ],
      "execution_count": 0,
      "outputs": [
        {
          "output_type": "execute_result",
          "data": {
            "text/plain": [
              "(2257, 5000)"
            ]
          },
          "metadata": {
            "tags": []
          },
          "execution_count": 8
        }
      ]
    },
    {
      "metadata": {
        "scrolled": true,
        "id": "-6A-0_WaCue7",
        "colab_type": "code",
        "colab": {},
        "outputId": "78666f4a-00fa-4318-c700-d487ade59cd0"
      },
      "cell_type": "code",
      "source": [
        "# Visualize the results, first row and first column\n",
        "print(X_train_tf[0,:])\n",
        "print(X_train_tf[:,0])\n"
      ],
      "execution_count": 0,
      "outputs": [
        {
          "output_type": "stream",
          "text": [
            "  (0, 1445)\t0.09984961017366438\n",
            "  (0, 2550)\t0.09208756192014825\n",
            "  (0, 2014)\t0.10905059471954383\n",
            "  (0, 4869)\t0.11240915977454444\n",
            "  (0, 4299)\t0.17223237883101852\n",
            "  (0, 3273)\t0.1894979846175662\n",
            "  (0, 357)\t0.19614730458851817\n",
            "  (0, 3276)\t0.23935810161052842\n",
            "  (0, 4744)\t0.2426971720743241\n",
            "  (0, 1090)\t0.18536764690499014\n",
            "  (0, 2251)\t0.2815174602044267\n",
            "  (0, 4520)\t0.23935810161052842\n",
            "  (0, 1795)\t0.32667393651341364\n",
            "  (0, 2237)\t0.2178827886891891\n",
            "  (0, 1865)\t0.1823562906613318\n",
            "  (0, 2643)\t0.09443126584369482\n",
            "  (0, 1094)\t0.25039793047338804\n",
            "  (0, 2197)\t0.22599179670408007\n",
            "  (0, 3385)\t0.27295430367067186\n",
            "  (0, 1543)\t0.16378061599510793\n",
            "  (0, 3867)\t0.16560834723130236\n",
            "  (0, 1123)\t0.1576109272623592\n",
            "  (0, 2058)\t0.14480748228447815\n",
            "  (0, 4522)\t0.12653363760378736\n",
            "  (0, 238)\t0.17006982914503366\n",
            "  (0, 2866)\t0.1903802097234869\n",
            "  (232, 0)\t0.1626733015721039\n",
            "  (272, 0)\t0.03960458829975349\n",
            "  (282, 0)\t0.08301434712372262\n",
            "  (400, 0)\t0.005277364589626779\n",
            "  (433, 0)\t0.005964993735391251\n",
            "  (581, 0)\t0.150704657006369\n",
            "  (588, 0)\t0.1542968331053262\n",
            "  (766, 0)\t0.1269568469979588\n",
            "  (768, 0)\t0.011707829878397238\n",
            "  (837, 0)\t0.334685959895095\n",
            "  (844, 0)\t0.20716739670250434\n",
            "  (859, 0)\t0.21650613403417462\n",
            "  (880, 0)\t0.01335023629162414\n",
            "  (1030, 0)\t0.27874171459307817\n",
            "  (1056, 0)\t0.21261226227802443\n",
            "  (1057, 0)\t0.13986552773816452\n",
            "  (1263, 0)\t0.08891073557106413\n",
            "  (1475, 0)\t0.2751482241616676\n",
            "  (1665, 0)\t0.2238605766396589\n",
            "  (1795, 0)\t0.09117991042239235\n",
            "  (1802, 0)\t0.016531921225093872\n",
            "  (1833, 0)\t0.11551299395013806\n",
            "  (1890, 0)\t0.007961631219200998\n",
            "  (2069, 0)\t0.10844175004957458\n",
            "  (2144, 0)\t0.11498345738389044\n"
          ],
          "name": "stdout"
        }
      ]
    },
    {
      "metadata": {
        "id": "xx5ln6coCue-",
        "colab_type": "text"
      },
      "cell_type": "markdown",
      "source": [
        "## First basic model "
      ]
    },
    {
      "metadata": {
        "id": "_NdkxfG-Cue_",
        "colab_type": "code",
        "colab": {}
      },
      "cell_type": "code",
      "source": [
        "from sklearn.naive_bayes import MultinomialNB\n",
        "\n",
        "# Define and fit in one line\n",
        "clf = MultinomialNB().fit(X_train_tf, twenty_train.target)\n"
      ],
      "execution_count": 0,
      "outputs": []
    },
    {
      "metadata": {
        "id": "KfUNqcohCufB",
        "colab_type": "text"
      },
      "cell_type": "markdown",
      "source": [
        "### TASK 3: Define a score procces"
      ]
    },
    {
      "metadata": {
        "id": "0zUb7LksCufB",
        "colab_type": "code",
        "colab": {},
        "outputId": "9e093f27-88d6-4e05-d594-73cdc2e9e570"
      },
      "cell_type": "code",
      "source": [
        "#Score test data\n",
        "print(categories)\n",
        "\n",
        "# Read test data\n",
        "twenty_test = fetch_20newsgroups(subset='test',\n",
        "                 remove=('headers', 'footers', 'quotes'),\n",
        "                 categories=categories, shuffle=True, random_state=42)\n",
        "\n",
        "# Transform text to counts\n",
        "X_test_counts = tf_vectorizer.transform(twenty_test.data)\n",
        "\n",
        "# tf-idf transformation\n",
        "X_test_tf = tfidf_transformer.transform(X_test_counts)\n",
        "\n",
        "# Prediction\n",
        "predicted = clf.predict(X_test_tf)\n",
        "\n",
        "# Accuracy\n",
        "from sklearn.metrics import accuracy_score\n",
        "print('Accuracy test: ', accuracy_score(twenty_test.target, predicted))\n"
      ],
      "execution_count": 0,
      "outputs": [
        {
          "output_type": "stream",
          "text": [
            "['alt.atheism', 'soc.religion.christian', 'comp.graphics', 'sci.med']\n",
            "Accuracy test:  0.7989347536617842\n"
          ],
          "name": "stdout"
        }
      ]
    },
    {
      "metadata": {
        "id": "dMqH_p-MCufE",
        "colab_type": "code",
        "colab": {}
      },
      "cell_type": "code",
      "source": [
        ""
      ],
      "execution_count": 0,
      "outputs": []
    }
  ]
}