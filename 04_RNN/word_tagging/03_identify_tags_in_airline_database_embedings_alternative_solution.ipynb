{
 "cells": [
  {
   "cell_type": "markdown",
   "metadata": {},
   "source": [
    "# Identify tags in airline database\n",
    "\n",
    "## Pending to complete the data creation"
   ]
  },
  {
   "cell_type": "markdown",
   "metadata": {},
   "source": [
    "# Alternative solution\n",
    "\n",
    "## Architecture\n",
    "    - Two inputs: \n",
    "        previous words seq_inputf = [W_i-k, ..., W_i-1, W_i] \n",
    "        Next words seq_inputb = [W_i, W_i+1, ...,W_i+k]\n",
    "    - Two embeding layers with shared weights\n",
    "    - Two LSTM, one forward and one backward\n",
    "    - A final concatenation and a dense layer"
   ]
  },
  {
   "cell_type": "code",
   "execution_count": 18,
   "metadata": {},
   "outputs": [
    {
     "name": "stdout",
     "output_type": "stream",
     "text": [
      "Build model 1\n",
      "__________________________________________________________________________________________________\n",
      "Layer (type)                    Output Shape         Param #     Connected to                     \n",
      "==================================================================================================\n",
      "prev1 (InputLayer)              (None, 10)           0                                            \n",
      "__________________________________________________________________________________________________\n",
      "prev2 (InputLayer)              (None, 10)           0                                            \n",
      "__________________________________________________________________________________________________\n",
      "embedding_5 (Embedding)         (None, 10, 64)       36672       prev1[0][0]                      \n",
      "                                                                 prev2[0][0]                      \n",
      "__________________________________________________________________________________________________\n",
      "lstm_7 (LSTM)                   (None, 128)          98816       embedding_5[0][0]                \n",
      "__________________________________________________________________________________________________\n",
      "lstm_8 (LSTM)                   (None, 128)          98816       embedding_5[1][0]                \n",
      "__________________________________________________________________________________________________\n",
      "concatenate_4 (Concatenate)     (None, 256)          0           lstm_7[0][0]                     \n",
      "                                                                 lstm_8[0][0]                     \n",
      "__________________________________________________________________________________________________\n",
      "dense_3 (Dense)                 (None, 127)          32639       concatenate_4[0][0]              \n",
      "==================================================================================================\n",
      "Total params: 266,943\n",
      "Trainable params: 266,943\n",
      "Non-trainable params: 0\n",
      "__________________________________________________________________________________________________\n"
     ]
    }
   ],
   "source": [
    "# build the model: Simple LSTM with embedings\n",
    "print('Build model 1')\n",
    "seq_input_f = tf.keras.layers.Input(shape=([input_seq_length]), name='prev1') \n",
    "seq_input_b = tf.keras.layers.Input(shape=([input_seq_length]), name='prev2') \n",
    "    \n",
    "embeds = tf.keras.layers.Embedding(input_vocabulary_size, embedding_size)\n",
    "\n",
    "embeds1 = embeds(seq_input_f)\n",
    "embeds2 = embeds(seq_input_b)\n",
    "\n",
    "lstm_f = tf.keras.layers.LSTM(128)(embeds_f)\n",
    "lstm_b = tf.keras.layers.LSTM(128, go_backwards=True)(embeds_b)\n",
    "\n",
    "concat = tf.keras.layers.concatenate([lstm_f, lstm_b], axis=-1)\n",
    "\n",
    "    \n",
    "output = tf.keras.layers.Dense(output_length, activation='softmax')(concat)\n",
    "\n",
    "\n",
    "model1 = tf.keras.models.Model(inputs=[seq_input_f, seq_input_b], outputs=output)\n",
    "model1.summary()\n",
    "\n",
    "# Optimizer\n",
    "adam_optimizer = tf.keras.optimizers.Adam()\n",
    "model1.compile(loss='sparse_categorical_crossentropy', optimizer=adam_optimizer, metrics=['accuracy'])\n"
   ]
  },
  {
   "cell_type": "code",
   "execution_count": null,
   "metadata": {
    "collapsed": true
   },
   "outputs": [],
   "source": [
    "#Fit model\n",
    "\n",
    "tb_callback = tf.keras.callbacks.TensorBoard(log_dir=LOG_DIR)\n",
    "\n",
    "history = model1.fit([X_trn_f, X_trn_b], y_trn, batch_size=128, epochs=20,\n",
    "           validation_data=([X_tst_f, X_trs_b], y_tst), callbacks=[tb_callback])\n"
   ]
  }
 ],
 "metadata": {
  "anaconda-cloud": {},
  "kernelspec": {
   "display_name": "Python [conda env:tm]",
   "language": "python",
   "name": "conda-env-tm-py"
  },
  "language_info": {
   "codemirror_mode": {
    "name": "ipython",
    "version": 3
   },
   "file_extension": ".py",
   "mimetype": "text/x-python",
   "name": "python",
   "nbconvert_exporter": "python",
   "pygments_lexer": "ipython3",
   "version": "3.6.5"
  }
 },
 "nbformat": 4,
 "nbformat_minor": 2
}
